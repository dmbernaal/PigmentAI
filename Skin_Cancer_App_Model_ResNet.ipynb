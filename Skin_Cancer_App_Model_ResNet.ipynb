{
 "cells": [
  {
   "cell_type": "markdown",
   "metadata": {
    "colab_type": "text",
    "id": "qc_sD-UcNZzT"
   },
   "source": [
    "# Skin Cancer Detection \n",
    "This objective o this notebook is to take [This kaggle dataset](https://www.kaggle.com/ingbiodanielh/skin-cancer-classification-with-resnet-50-fastai)\n",
    "\n",
    "Much of the pre-processing inspiration comes from:\n",
    "\n",
    "https://www.kaggle.com/ingbiodanielh/skin-cancer-classification-with-resnet-50-fastai \n",
    "\n",
    "to train a state of the art image classification model to detect skin cancer. \n",
    "\n",
    "This is **part 1** of several notebooks and scripts for a much larger open source project. \n",
    "\n",
    "The aim of this project is to: \n",
    "* Build a state of the art model for skin cancer\n",
    "* Deploy that model onto an iOS device for anyone to use\n",
    "* Document everything for anyone to create the same\n",
    "\n",
    "My wish from this project is truly to educate and inpsire others. Thus we will cover everything from:\n",
    "* downloading the data\n",
    "* data augmentation \n",
    "* building a model\n",
    "* evaluating & fine-tuning (based on state of the art)\n",
    "* converting our model to CoreML \n",
    "* designing & creating a simple iOS app that uses our state of the art model "
   ]
  },
  {
   "cell_type": "markdown",
   "metadata": {
    "colab_type": "text",
    "id": "O2Ja5Z_xOWkt"
   },
   "source": [
    "### Installing libraries\n",
    "Quickly installing all libraries we will use from downloading our data, exploring our data, building our model. \n",
    "\n",
    "We will be using **fastai's v1.0 framework** to build our model. \n",
    "\n",
    "I HIGHLY suggest checking them out. Not only do they provide such an amazing framework (sitting on top of Pytorch 1.0) but also provide *free* online courses, teaching you how to build state of the art models \n",
    "\n",
    "Check them out here:\n",
    "[www.fast.ai](www.fast.ai)"
   ]
  },
  {
   "cell_type": "code",
   "execution_count": null,
   "metadata": {
    "colab": {},
    "colab_type": "code",
    "id": "gJftNeQFNNYq"
   },
   "outputs": [],
   "source": [
    "# libraries\n",
    "!pip install fastai\n",
    "!pip install kaggle --upgrade"
   ]
  },
  {
   "cell_type": "code",
   "execution_count": null,
   "metadata": {
    "colab": {},
    "colab_type": "code",
    "id": "fZZAEWQLNWze"
   },
   "outputs": [],
   "source": [
    "# Importing\n",
    "from fastai import *\n",
    "from fastai.vision import *\n",
    "from fastai.callbacks.hooks import *\n",
    "import torch\n",
    "\n",
    "import seaborn as sns\n",
    "import matplotlib.pyplot as plt\n",
    "\n",
    "import pandas as pd\n",
    "import numpy as np\n",
    "\n",
    "import os\n",
    "import json"
   ]
  },
  {
   "cell_type": "code",
   "execution_count": null,
   "metadata": {
    "colab": {
     "base_uri": "https://localhost:8080/",
     "height": 35
    },
    "colab_type": "code",
    "id": "kADUlQ-pTEXP",
    "outputId": "175dec92-470a-448a-9bb9-e4b9ef0a55fc"
   },
   "outputs": [
    {
     "data": {
      "text/plain": [
       "True"
      ]
     },
     "execution_count": 3,
     "metadata": {
      "tags": []
     },
     "output_type": "execute_result"
    }
   ],
   "source": [
    "# checking if enabled\n",
    "torch.backends.cudnn.enabled == True"
   ]
  },
  {
   "cell_type": "code",
   "execution_count": null,
   "metadata": {
    "colab": {
     "base_uri": "https://localhost:8080/",
     "height": 179
    },
    "colab_type": "code",
    "id": "a0DeZL1rOrkP",
    "outputId": "ce012018-09aa-48ea-b93e-bfc26768f258"
   },
   "outputs": [
    {
     "name": "stdout",
     "output_type": "stream",
     "text": [
      "cp: cannot create regular file '/root/.kaggle/kaggle.json': No such file or directory\n",
      "Traceback (most recent call last):\n",
      "  File \"/usr/local/bin/kaggle\", line 7, in <module>\n",
      "    from kaggle.cli import main\n",
      "  File \"/usr/local/lib/python3.6/dist-packages/kaggle/__init__.py\", line 23, in <module>\n",
      "    api.authenticate()\n",
      "  File \"/usr/local/lib/python3.6/dist-packages/kaggle/api/kaggle_api_extended.py\", line 116, in authenticate\n",
      "    self.config_file, self.config_dir))\n",
      "OSError: Could not find kaggle.json. Make sure it's located in /root/.kaggle. Or use the environment method.\n"
     ]
    }
   ],
   "source": [
    "# configuring kaggle\n",
    "!mkdir .kaggle # we will store in this directory\n",
    "\n",
    "cred = json.dumps({\"username\":\"dmbernaal\",\"key\":\"8b35c9b4aaeb3511fd8837d7b08bca19\"}) # change with your credentials\n",
    "with open('.kaggle/kaggle.json', 'w') as f:\n",
    "  f.write(cred) # writes to the .kaggle folder\n",
    "  \n",
    "# Configuring the file - we will run this twice (second time next block)\n",
    "!cp .kaggle/kaggle.json ~/.kaggle/kaggle.json\n",
    "!kaggle config set -n path -v{/content}"
   ]
  },
  {
   "cell_type": "code",
   "execution_count": null,
   "metadata": {
    "colab": {
     "base_uri": "https://localhost:8080/",
     "height": 53
    },
    "colab_type": "code",
    "id": "fbV3Gt4MPzC_",
    "outputId": "134fbe77-caab-45f9-ca07-46f4d5b73086"
   },
   "outputs": [
    {
     "name": "stdout",
     "output_type": "stream",
     "text": [
      "Warning: Your Kaggle API key is readable by other users on this system! To fix this, you can run 'chmod 600 /root/.kaggle/kaggle.json'\n",
      "- path is now set to: {/content}\n"
     ]
    }
   ],
   "source": [
    "# run for second time\n",
    "!cp .kaggle/kaggle.json ~/.kaggle/kaggle.json\n",
    "!kaggle config set -n path -v{/content}"
   ]
  },
  {
   "cell_type": "code",
   "execution_count": null,
   "metadata": {
    "colab": {},
    "colab_type": "code",
    "id": "--WxJp1QQgO6"
   },
   "outputs": [],
   "source": [
    "# making private\n",
    "!chmod 600 /root/.kaggle/kaggle.json"
   ]
  },
  {
   "cell_type": "markdown",
   "metadata": {
    "colab_type": "text",
    "id": "4_RgRIJdQqDD"
   },
   "source": [
    "### Downloading our data"
   ]
  },
  {
   "cell_type": "code",
   "execution_count": null,
   "metadata": {
    "colab": {},
    "colab_type": "code",
    "id": "K92el1YbQn9g"
   },
   "outputs": [],
   "source": [
    "# Creating directories and paths\n",
    "!mkdir data\n",
    "!mkdir data/images # will contain all raw images\n",
    "\n",
    "path = '/content/data'\n",
    "images_path = '/content/data/images'"
   ]
  },
  {
   "cell_type": "code",
   "execution_count": null,
   "metadata": {
    "colab": {
     "base_uri": "https://localhost:8080/",
     "height": 71
    },
    "colab_type": "code",
    "id": "2k6-dnwHRbxE",
    "outputId": "e48a418b-798d-4e57-d774-0bd09ce315ba"
   },
   "outputs": [
    {
     "name": "stdout",
     "output_type": "stream",
     "text": [
      "Downloading skin-cancer-mnist-ham10000.zip to /content/data\n",
      "100% 2.61G/2.62G [00:26<00:00, 84.6MB/s]\n",
      "100% 2.62G/2.62G [00:27<00:00, 104MB/s] \n"
     ]
    }
   ],
   "source": [
    "# downloading our data\n",
    "!kaggle datasets download -d kmader/skin-cancer-mnist-ham10000 -p {path}"
   ]
  },
  {
   "cell_type": "code",
   "execution_count": null,
   "metadata": {
    "colab": {},
    "colab_type": "code",
    "id": "3GC4FuPXRk-T"
   },
   "outputs": [],
   "source": [
    "# Unzipping files and deleting zipped files\n",
    "!unzip -q -n {path}/skin-cancer-mnist-ham10000.zip -d {path} \n",
    "\n",
    "!unzip -q -n {path}/HAM10000_images_part_1.zip -d {images_path}\n",
    "!unzip -q -n {path}/HAM10000_images_part_2.zip -d {images_path}"
   ]
  },
  {
   "cell_type": "code",
   "execution_count": null,
   "metadata": {
    "colab": {
     "base_uri": "https://localhost:8080/",
     "height": 197
    },
    "colab_type": "code",
    "id": "6YdaxN4yhMem",
    "outputId": "21330fca-49d5-4bc9-bf44-be2f774bfd2c"
   },
   "outputs": [
    {
     "name": "stdout",
     "output_type": "stream",
     "text": [
      "ISIC_0024306.jpg\n",
      "ISIC_0024307.jpg\n",
      "ISIC_0024308.jpg\n",
      "ISIC_0024309.jpg\n",
      "ISIC_0024310.jpg\n",
      "ISIC_0024311.jpg\n",
      "ISIC_0024312.jpg\n",
      "ISIC_0024313.jpg\n",
      "ISIC_0024314.jpg\n",
      "ISIC_0024315.jpg\n"
     ]
    }
   ],
   "source": [
    "!ls data/images | head"
   ]
  },
  {
   "cell_type": "markdown",
   "metadata": {
    "colab_type": "text",
    "id": "0cm8qkrmiHeQ"
   },
   "source": [
    "### Data Exploration & Analysis"
   ]
  },
  {
   "cell_type": "code",
   "execution_count": null,
   "metadata": {
    "colab": {},
    "colab_type": "code",
    "id": "r4OcFHdCUPPn"
   },
   "outputs": [],
   "source": [
    "# setting paths\n",
    "path = '/content/data'\n",
    "images_path = '/content/data/images'\n",
    "csv_path = '/content/data/HAM10000_metadata.csv' # contains all labels & more"
   ]
  },
  {
   "cell_type": "code",
   "execution_count": null,
   "metadata": {
    "colab": {
     "base_uri": "https://localhost:8080/",
     "height": 235
    },
    "colab_type": "code",
    "id": "ZknEdCZwhu3M",
    "outputId": "bd2f2bd5-78e5-4dc5-ad0a-b00d53819441"
   },
   "outputs": [
    {
     "data": {
      "text/html": [
       "<div>\n",
       "<style scoped>\n",
       "    .dataframe tbody tr th:only-of-type {\n",
       "        vertical-align: middle;\n",
       "    }\n",
       "\n",
       "    .dataframe tbody tr th {\n",
       "        vertical-align: top;\n",
       "    }\n",
       "\n",
       "    .dataframe thead th {\n",
       "        text-align: right;\n",
       "    }\n",
       "</style>\n",
       "<table border=\"1\" class=\"dataframe\">\n",
       "  <thead>\n",
       "    <tr style=\"text-align: right;\">\n",
       "      <th></th>\n",
       "      <th>lesion_id</th>\n",
       "      <th>dx</th>\n",
       "      <th>dx_type</th>\n",
       "      <th>age</th>\n",
       "      <th>sex</th>\n",
       "      <th>localization</th>\n",
       "    </tr>\n",
       "    <tr>\n",
       "      <th>image_id</th>\n",
       "      <th></th>\n",
       "      <th></th>\n",
       "      <th></th>\n",
       "      <th></th>\n",
       "      <th></th>\n",
       "      <th></th>\n",
       "    </tr>\n",
       "  </thead>\n",
       "  <tbody>\n",
       "    <tr>\n",
       "      <th>ISIC_0027419</th>\n",
       "      <td>HAM_0000118</td>\n",
       "      <td>bkl</td>\n",
       "      <td>histo</td>\n",
       "      <td>80.0</td>\n",
       "      <td>male</td>\n",
       "      <td>scalp</td>\n",
       "    </tr>\n",
       "    <tr>\n",
       "      <th>ISIC_0025030</th>\n",
       "      <td>HAM_0000118</td>\n",
       "      <td>bkl</td>\n",
       "      <td>histo</td>\n",
       "      <td>80.0</td>\n",
       "      <td>male</td>\n",
       "      <td>scalp</td>\n",
       "    </tr>\n",
       "    <tr>\n",
       "      <th>ISIC_0026769</th>\n",
       "      <td>HAM_0002730</td>\n",
       "      <td>bkl</td>\n",
       "      <td>histo</td>\n",
       "      <td>80.0</td>\n",
       "      <td>male</td>\n",
       "      <td>scalp</td>\n",
       "    </tr>\n",
       "    <tr>\n",
       "      <th>ISIC_0025661</th>\n",
       "      <td>HAM_0002730</td>\n",
       "      <td>bkl</td>\n",
       "      <td>histo</td>\n",
       "      <td>80.0</td>\n",
       "      <td>male</td>\n",
       "      <td>scalp</td>\n",
       "    </tr>\n",
       "    <tr>\n",
       "      <th>ISIC_0031633</th>\n",
       "      <td>HAM_0001466</td>\n",
       "      <td>bkl</td>\n",
       "      <td>histo</td>\n",
       "      <td>75.0</td>\n",
       "      <td>male</td>\n",
       "      <td>ear</td>\n",
       "    </tr>\n",
       "  </tbody>\n",
       "</table>\n",
       "</div>"
      ],
      "text/plain": [
       "                lesion_id   dx dx_type   age   sex localization\n",
       "image_id                                                       \n",
       "ISIC_0027419  HAM_0000118  bkl   histo  80.0  male        scalp\n",
       "ISIC_0025030  HAM_0000118  bkl   histo  80.0  male        scalp\n",
       "ISIC_0026769  HAM_0002730  bkl   histo  80.0  male        scalp\n",
       "ISIC_0025661  HAM_0002730  bkl   histo  80.0  male        scalp\n",
       "ISIC_0031633  HAM_0001466  bkl   histo  75.0  male          ear"
      ]
     },
     "execution_count": 91,
     "metadata": {
      "tags": []
     },
     "output_type": "execute_result"
    }
   ],
   "source": [
    "# creating pandas dataframe - with image id as index\n",
    "df = pd.read_csv(csv_path).set_index('image_id')\n",
    "df.head()"
   ]
  },
  {
   "cell_type": "code",
   "execution_count": null,
   "metadata": {
    "colab": {
     "base_uri": "https://localhost:8080/",
     "height": 215
    },
    "colab_type": "code",
    "id": "uHlozq-ohjyv",
    "outputId": "e85058ea-01a0-4922-d1e6-e3c84e91f98c"
   },
   "outputs": [
    {
     "name": "stdout",
     "output_type": "stream",
     "text": [
      "<class 'pandas.core.frame.DataFrame'>\n",
      "Index: 10015 entries, ISIC_0027419 to ISIC_0032258\n",
      "Data columns (total 6 columns):\n",
      "lesion_id       10015 non-null object\n",
      "dx              10015 non-null object\n",
      "dx_type         10015 non-null object\n",
      "age             9958 non-null float64\n",
      "sex             10015 non-null object\n",
      "localization    10015 non-null object\n",
      "dtypes: float64(1), object(5)\n",
      "memory usage: 547.7+ KB\n"
     ]
    }
   ],
   "source": [
    "df.info()"
   ]
  },
  {
   "cell_type": "code",
   "execution_count": null,
   "metadata": {
    "colab": {},
    "colab_type": "code",
    "id": "hpDl8ryDioFe"
   },
   "outputs": [],
   "source": [
    "# Creating dictionary with lession categories (classes)\n",
    "lession_dict = {\n",
    "    'nv': 'Melanocytic Nevi',\n",
    "    'mel': 'Melanoma',\n",
    "    'bkl': 'Benign Keratoses',\n",
    "    'bcc': 'Basal Cell Carcinoma',\n",
    "    'akiec': 'Actinic Keratoses',\n",
    "    'vasc': 'Vascular Lesions',\n",
    "    'df': 'Dermatofibroma'\n",
    "}\n"
   ]
  },
  {
   "cell_type": "code",
   "execution_count": null,
   "metadata": {
    "colab": {},
    "colab_type": "code",
    "id": "dCgKEZ0qj5jL"
   },
   "outputs": [],
   "source": [
    "# Let's now form categories from dx columns and create a labels & lesion column\n",
    "df['dx'] = df['dx'].astype('category', copy=True) # turning into category type\n",
    "\n",
    "df['labels'] = df['dx'].cat.codes # converts each to a numerical code\n",
    "df['lesion'] = df['dx'].map(lession_dict)"
   ]
  },
  {
   "cell_type": "code",
   "execution_count": null,
   "metadata": {
    "colab": {
     "base_uri": "https://localhost:8080/",
     "height": 235
    },
    "colab_type": "code",
    "id": "G0br5q-NxNz-",
    "outputId": "c10a486c-e3cc-4da0-a261-a11597de5eff"
   },
   "outputs": [
    {
     "data": {
      "text/html": [
       "<div>\n",
       "<style scoped>\n",
       "    .dataframe tbody tr th:only-of-type {\n",
       "        vertical-align: middle;\n",
       "    }\n",
       "\n",
       "    .dataframe tbody tr th {\n",
       "        vertical-align: top;\n",
       "    }\n",
       "\n",
       "    .dataframe thead th {\n",
       "        text-align: right;\n",
       "    }\n",
       "</style>\n",
       "<table border=\"1\" class=\"dataframe\">\n",
       "  <thead>\n",
       "    <tr style=\"text-align: right;\">\n",
       "      <th></th>\n",
       "      <th>lesion_id</th>\n",
       "      <th>dx</th>\n",
       "      <th>dx_type</th>\n",
       "      <th>age</th>\n",
       "      <th>sex</th>\n",
       "      <th>localization</th>\n",
       "      <th>labels</th>\n",
       "      <th>lesion</th>\n",
       "    </tr>\n",
       "    <tr>\n",
       "      <th>image_id</th>\n",
       "      <th></th>\n",
       "      <th></th>\n",
       "      <th></th>\n",
       "      <th></th>\n",
       "      <th></th>\n",
       "      <th></th>\n",
       "      <th></th>\n",
       "      <th></th>\n",
       "    </tr>\n",
       "  </thead>\n",
       "  <tbody>\n",
       "    <tr>\n",
       "      <th>ISIC_0027419</th>\n",
       "      <td>HAM_0000118</td>\n",
       "      <td>bkl</td>\n",
       "      <td>histo</td>\n",
       "      <td>80.0</td>\n",
       "      <td>male</td>\n",
       "      <td>scalp</td>\n",
       "      <td>2</td>\n",
       "      <td>Benign</td>\n",
       "    </tr>\n",
       "    <tr>\n",
       "      <th>ISIC_0025030</th>\n",
       "      <td>HAM_0000118</td>\n",
       "      <td>bkl</td>\n",
       "      <td>histo</td>\n",
       "      <td>80.0</td>\n",
       "      <td>male</td>\n",
       "      <td>scalp</td>\n",
       "      <td>2</td>\n",
       "      <td>Benign</td>\n",
       "    </tr>\n",
       "    <tr>\n",
       "      <th>ISIC_0026769</th>\n",
       "      <td>HAM_0002730</td>\n",
       "      <td>bkl</td>\n",
       "      <td>histo</td>\n",
       "      <td>80.0</td>\n",
       "      <td>male</td>\n",
       "      <td>scalp</td>\n",
       "      <td>2</td>\n",
       "      <td>Benign</td>\n",
       "    </tr>\n",
       "    <tr>\n",
       "      <th>ISIC_0025661</th>\n",
       "      <td>HAM_0002730</td>\n",
       "      <td>bkl</td>\n",
       "      <td>histo</td>\n",
       "      <td>80.0</td>\n",
       "      <td>male</td>\n",
       "      <td>scalp</td>\n",
       "      <td>2</td>\n",
       "      <td>Benign</td>\n",
       "    </tr>\n",
       "    <tr>\n",
       "      <th>ISIC_0031633</th>\n",
       "      <td>HAM_0001466</td>\n",
       "      <td>bkl</td>\n",
       "      <td>histo</td>\n",
       "      <td>75.0</td>\n",
       "      <td>male</td>\n",
       "      <td>ear</td>\n",
       "      <td>2</td>\n",
       "      <td>Benign</td>\n",
       "    </tr>\n",
       "  </tbody>\n",
       "</table>\n",
       "</div>"
      ],
      "text/plain": [
       "                lesion_id   dx dx_type   age   sex localization  labels  \\\n",
       "image_id                                                                  \n",
       "ISIC_0027419  HAM_0000118  bkl   histo  80.0  male        scalp       2   \n",
       "ISIC_0025030  HAM_0000118  bkl   histo  80.0  male        scalp       2   \n",
       "ISIC_0026769  HAM_0002730  bkl   histo  80.0  male        scalp       2   \n",
       "ISIC_0025661  HAM_0002730  bkl   histo  80.0  male        scalp       2   \n",
       "ISIC_0031633  HAM_0001466  bkl   histo  75.0  male          ear       2   \n",
       "\n",
       "              lesion  \n",
       "image_id              \n",
       "ISIC_0027419  Benign  \n",
       "ISIC_0025030  Benign  \n",
       "ISIC_0026769  Benign  \n",
       "ISIC_0025661  Benign  \n",
       "ISIC_0031633  Benign  "
      ]
     },
     "execution_count": 82,
     "metadata": {
      "tags": []
     },
     "output_type": "execute_result"
    }
   ],
   "source": [
    "df.head()"
   ]
  },
  {
   "cell_type": "code",
   "execution_count": null,
   "metadata": {
    "colab": {
     "base_uri": "https://localhost:8080/",
     "height": 89
    },
    "colab_type": "code",
    "id": "Gb3GfTHpycAL",
    "outputId": "6a0c22fc-4693-4065-cd78-0114183e41a2"
   },
   "outputs": [
    {
     "data": {
      "text/plain": [
       "Benign       7919\n",
       "Malignant    1627\n",
       "Drop          469\n",
       "Name: lesion, dtype: int64"
      ]
     },
     "execution_count": 87,
     "metadata": {
      "tags": []
     },
     "output_type": "execute_result"
    }
   ],
   "source": [
    "# taking a look at all lesions and their count\n",
    "df.lesion.value_counts()"
   ]
  },
  {
   "cell_type": "markdown",
   "metadata": {
    "colab_type": "text",
    "id": "BIzaJMEm3ihT"
   },
   "source": [
    "### Creating Dataset"
   ]
  },
  {
   "cell_type": "code",
   "execution_count": null,
   "metadata": {
    "colab": {},
    "colab_type": "code",
    "id": "yatj0B4Hyh1N"
   },
   "outputs": [],
   "source": [
    "# Creating a custom image list class\n",
    "class CustomImageItemList(ImageItemList):\n",
    "  \n",
    "    def custom_label(self,df, **kwargs)->'LabelList':\n",
    "      \n",
    "        \"\"\"Custom Labels from path\"\"\"\n",
    "        \n",
    "        file_names=np.vectorize(lambda files: str(files).split('/')[-1][:-4])\n",
    "        get_labels=lambda x: df.loc[x,'lesion']\n",
    "        \n",
    "        #self.items is an np array of PosixPath objects with each image path\n",
    "        labels= get_labels(file_names(self.items))\n",
    "        y = CategoryList(items=labels)\n",
    "        res = self._label_list(x=self,y=y)\n",
    "        \n",
    "        return res"
   ]
  },
  {
   "cell_type": "code",
   "execution_count": null,
   "metadata": {
    "colab": {},
    "colab_type": "code",
    "id": "THPK5BW44h6Z"
   },
   "outputs": [],
   "source": [
    "# Creating function to get our data in a format fastai likes\n",
    "\"\"\"\n",
    "    We will be calling this function multiple times to get better accuracy\n",
    "\"\"\"\n",
    "\n",
    "# Transforms - we will later play around with these\n",
    "do_flip = True\n",
    "flip_vert = True\n",
    "max_rotate = 10.0\n",
    "max_zoom = 1.01 # not default, but will start smaller\n",
    "\n",
    "# Creating out get_data function, which will return a data object for us\n",
    "def get_data(bs, size):\n",
    "    train_ds = (CustomImageItemList.from_folder(path, extensions='.jpg')\n",
    "                    .random_split_by_pct(0.15)\n",
    "                    .custom_label(df)\n",
    "                    .transform(tfms=get_transforms(do_flip=do_flip, flip_vert=flip_vert, max_rotate=max_rotate, max_zoom=max_zoom),size=size)\n",
    "                    .databunch(num_workers=2, bs=bs)\n",
    "                    .normalize(imagenet_stats))\n",
    "    return train_ds"
   ]
  },
  {
   "cell_type": "markdown",
   "metadata": {
    "colab_type": "text",
    "id": "gabwEOONXXFm"
   },
   "source": []
  },
  {
   "cell_type": "markdown",
   "metadata": {
    "colab_type": "text",
    "id": "BUTfj1KDE7E0"
   },
   "source": [
    "### Building our Model\n",
    "Inititally we will test various arch with few epoch\n",
    "\n",
    "Then we will pick one and:\n",
    "* Fine tune (wd, lr, etc)\n",
    "\n",
    "Once we have a fine-tuned model we will apply some further fine tuning tricks such as:\n",
    "* increasing image size per run \n",
    "\n",
    "We will later train this model on the cloud (GCP) with much more compute on a much larger model. "
   ]
  },
  {
   "cell_type": "code",
   "execution_count": null,
   "metadata": {
    "colab": {},
    "colab_type": "code",
    "id": "0UzqfgPnCOOY"
   },
   "outputs": [],
   "source": [
    "# We will experiment with these two models\n",
    "arch_resnet50 = models.resnet50"
   ]
  },
  {
   "cell_type": "code",
   "execution_count": null,
   "metadata": {
    "colab": {},
    "colab_type": "code",
    "id": "xb8B3Np7XDRe"
   },
   "outputs": [],
   "source": [
    "# Tuning parameters\n",
    "weight_decay_active = True # will turn on/off\n",
    "batch_norm_weight_decay = False # turns on/off weight decay is removed from batchnorm\n",
    "\n",
    "image_size = 224 # change this per turn\n",
    "batch_size = 100\n",
    "\n",
    "momentum_values_default = (0.99, 0.90) # we will set when calling learn.fit_one_cycle\n",
    "momentum_values_two = (0.95, 0.85) # default\n",
    "\n",
    "dropout_default = 0.5\n",
    "dropout_1 = 0.2"
   ]
  },
  {
   "cell_type": "code",
   "execution_count": null,
   "metadata": {
    "colab": {},
    "colab_type": "code",
    "id": "N2ZTch_tHzVZ"
   },
   "outputs": [],
   "source": [
    "# Creating data object\n",
    "data = get_data(batch_size, image_size)"
   ]
  },
  {
   "cell_type": "code",
   "execution_count": null,
   "metadata": {
    "colab": {
     "base_uri": "https://localhost:8080/",
     "height": 35
    },
    "colab_type": "code",
    "id": "dWfagwdBi4QS",
    "outputId": "f604e942-6da7-4198-e8d8-98ba54024d82"
   },
   "outputs": [
    {
     "data": {
      "text/plain": [
       "['Benign', 'Drop', 'Malignant']"
      ]
     },
     "execution_count": 89,
     "metadata": {
      "tags": []
     },
     "output_type": "execute_result"
    }
   ],
   "source": [
    "data.classes"
   ]
  },
  {
   "cell_type": "code",
   "execution_count": null,
   "metadata": {
    "colab": {},
    "colab_type": "code",
    "id": "a8OM3JrLccbZ"
   },
   "outputs": [],
   "source": [
    "\"\"\"\n",
    "ResNet50 settings\n",
    "\"\"\"\n",
    "# Creating our learner - pretrained model\n",
    "learn = create_cnn(data, arch_resnet50, metrics=[error_rate, accuracy], ps=dropout_1)\n",
    "\n",
    "# setting a few hyperparameters\n",
    "learn.true_wd = weight_decay_active\n",
    "learn.bn_wd = batch_norm_weight_decay"
   ]
  },
  {
   "cell_type": "markdown",
   "metadata": {
    "colab_type": "text",
    "id": "6kBED0twl4Ui"
   },
   "source": [
    "### Training & Fine-tuning model"
   ]
  },
  {
   "cell_type": "code",
   "execution_count": null,
   "metadata": {
    "colab": {
     "base_uri": "https://localhost:8080/",
     "height": 453
    },
    "colab_type": "code",
    "id": "pk5LyJ976wsg",
    "outputId": "0974b74b-c5de-40a5-cb07-9968eb786db4"
   },
   "outputs": [
    {
     "data": {
      "text/html": [
       "\n",
       "    <div>\n",
       "        <style>\n",
       "            /* Turns off some styling */\n",
       "            progress {\n",
       "                /* gets rid of default border in Firefox and Opera. */\n",
       "                border: none;\n",
       "                /* Needs to be in here for Safari polyfill so background images work as expected. */\n",
       "                background-size: auto;\n",
       "            }\n",
       "            .progress-bar-interrupted, .progress-bar-interrupted::-webkit-progress-bar {\n",
       "                background: #F44336;\n",
       "            }\n",
       "        </style>\n",
       "      <progress value='0' class='' max='1', style='width:300px; height:20px; vertical-align: middle;'></progress>\n",
       "      0.00% [0/1 00:00<00:00]\n",
       "    </div>\n",
       "    \n",
       "<table style='width:375px; margin-bottom:10px'>\n",
       "  <tr>\n",
       "    <th>epoch</th>\n",
       "    <th>train_loss</th>\n",
       "    <th>valid_loss</th>\n",
       "    <th>error_rate</th>\n",
       "    <th>accuracy</th>\n",
       "  </tr>\n",
       "</table>\n",
       "\n",
       "\n",
       "    <div>\n",
       "        <style>\n",
       "            /* Turns off some styling */\n",
       "            progress {\n",
       "                /* gets rid of default border in Firefox and Opera. */\n",
       "                border: none;\n",
       "                /* Needs to be in here for Safari polyfill so background images work as expected. */\n",
       "                background-size: auto;\n",
       "            }\n",
       "            .progress-bar-interrupted, .progress-bar-interrupted::-webkit-progress-bar {\n",
       "                background: #F44336;\n",
       "            }\n",
       "        </style>\n",
       "      <progress value='0' class='progress-bar-interrupted' max='266', style='width:300px; height:20px; vertical-align: middle;'></progress>\n",
       "      Interrupted\n",
       "    </div>\n",
       "    "
      ],
      "text/plain": [
       "<IPython.core.display.HTML object>"
      ]
     },
     "metadata": {
      "tags": []
     },
     "output_type": "display_data"
    },
    {
     "name": "stdout",
     "output_type": "stream",
     "text": [
      "LR Finder is complete, type {learner_name}.recorder.plot() to see the graph.\n"
     ]
    },
    {
     "data": {
      "image/png": "[encoded data removed]",
      "text/plain": [
       "<Figure size 576x396 with 1 Axes>"
      ]
     },
     "metadata": {
      "tags": []
     },
     "output_type": "display_data"
    }
   ],
   "source": [
    "# finding optimal learning late\n",
    "learn.lr_find()\n",
    "learn.recorder.plot()"
   ]
  },
  {
   "cell_type": "code",
   "execution_count": null,
   "metadata": {
    "colab": {},
    "colab_type": "code",
    "id": "Mm8l9Sfvl6Zd"
   },
   "outputs": [],
   "source": [
    "\"\"\"\n",
    "ResNet50 Lrs\n",
    "\"\"\"\n",
    "# picking optimal learning rate\n",
    "lr1 = 0.25\n",
    "lr2 = 0.1\n",
    "lr3 = 0.07\n",
    "lr4 = 0.06\n",
    "lr5 = 0.085\n",
    "lr6 = 0.075"
   ]
  },
  {
   "cell_type": "code",
   "execution_count": null,
   "metadata": {
    "colab": {
     "base_uri": "https://localhost:8080/",
     "height": 283
    },
    "colab_type": "code",
    "id": "pRfFbe9WFkco",
    "outputId": "bb5bdcb9-a0b2-4aef-f79e-5e7dbc37861b"
   },
   "outputs": [
    {
     "data": {
      "text/html": [
       "Total time: 59:14 <p><table style='width:375px; margin-bottom:10px'>\n",
       "  <tr>\n",
       "    <th>epoch</th>\n",
       "    <th>train_loss</th>\n",
       "    <th>valid_loss</th>\n",
       "    <th>error_rate</th>\n",
       "    <th>accuracy</th>\n",
       "  </tr>\n",
       "  <tr>\n",
       "    <th>1</th>\n",
       "    <th>0.769208</th>\n",
       "    <th>0.992097</th>\n",
       "    <th>0.309587</th>\n",
       "    <th>0.690413</th>\n",
       "  </tr>\n",
       "  <tr>\n",
       "    <th>2</th>\n",
       "    <th>0.712906</th>\n",
       "    <th>0.701670</th>\n",
       "    <th>0.254328</th>\n",
       "    <th>0.745672</th>\n",
       "  </tr>\n",
       "  <tr>\n",
       "    <th>3</th>\n",
       "    <th>0.719209</th>\n",
       "    <th>1.007095</th>\n",
       "    <th>0.306924</th>\n",
       "    <th>0.693076</th>\n",
       "  </tr>\n",
       "  <tr>\n",
       "    <th>4</th>\n",
       "    <th>0.712762</th>\n",
       "    <th>2.419852</th>\n",
       "    <th>0.376165</th>\n",
       "    <th>0.623835</th>\n",
       "  </tr>\n",
       "  <tr>\n",
       "    <th>5</th>\n",
       "    <th>0.661298</th>\n",
       "    <th>0.629573</th>\n",
       "    <th>0.225033</th>\n",
       "    <th>0.774967</th>\n",
       "  </tr>\n",
       "  <tr>\n",
       "    <th>6</th>\n",
       "    <th>0.594375</th>\n",
       "    <th>0.607708</th>\n",
       "    <th>0.207723</th>\n",
       "    <th>0.792277</th>\n",
       "  </tr>\n",
       "  <tr>\n",
       "    <th>7</th>\n",
       "    <th>0.556535</th>\n",
       "    <th>0.828372</th>\n",
       "    <th>0.211718</th>\n",
       "    <th>0.788282</th>\n",
       "  </tr>\n",
       "  <tr>\n",
       "    <th>8</th>\n",
       "    <th>0.512304</th>\n",
       "    <th>0.500756</th>\n",
       "    <th>0.178429</th>\n",
       "    <th>0.821571</th>\n",
       "  </tr>\n",
       "  <tr>\n",
       "    <th>9</th>\n",
       "    <th>0.437637</th>\n",
       "    <th>0.423070</th>\n",
       "    <th>0.158455</th>\n",
       "    <th>0.841545</th>\n",
       "  </tr>\n",
       "  <tr>\n",
       "    <th>10</th>\n",
       "    <th>0.396703</th>\n",
       "    <th>0.407583</th>\n",
       "    <th>0.142477</th>\n",
       "    <th>0.857523</th>\n",
       "  </tr>\n",
       "</table>\n"
      ],
      "text/plain": [
       "<IPython.core.display.HTML object>"
      ]
     },
     "metadata": {
      "tags": []
     },
     "output_type": "display_data"
    }
   ],
   "source": [
    "\"\"\"\n",
    "ResNet50\n",
    "weight decay: 1e-2\n",
    "momentum range: (0.95, 0.85)\n",
    "learning rate: 0.06\n",
    "batch size: 100\n",
    "dropout: 0.2\n",
    "\"\"\"\n",
    "# learn.fit_one_cycle(20, slice(lr), moms=momentum_values_two, wd=weight_decay)\n",
    "learn.fit_one_cycle(10, max_lr=lr4, pct_start=0.3, moms=momentum_values_two, wd=1e-2)"
   ]
  },
  {
   "cell_type": "code",
   "execution_count": null,
   "metadata": {
    "colab": {},
    "colab_type": "code",
    "id": "kOGwOH8C1JGM"
   },
   "outputs": [],
   "source": [
    "# saving the model\n",
    "learn.save('stage-1-224-resnet50')"
   ]
  },
  {
   "cell_type": "code",
   "execution_count": null,
   "metadata": {
    "colab": {},
    "colab_type": "code",
    "id": "rMEaPEMEa80q"
   },
   "outputs": [],
   "source": [
    "learn.load('stage-1-224-resnet50')"
   ]
  },
  {
   "cell_type": "code",
   "execution_count": null,
   "metadata": {
    "colab": {},
    "colab_type": "code",
    "id": "6_rKxcLt1OXz"
   },
   "outputs": [],
   "source": [
    "# unfreezing all layers, we will apply differential learning rates\n",
    "learn.unfreeze()"
   ]
  },
  {
   "cell_type": "code",
   "execution_count": null,
   "metadata": {
    "colab": {
     "base_uri": "https://localhost:8080/",
     "height": 456
    },
    "colab_type": "code",
    "id": "_au38fR01Ouu",
    "outputId": "f9fbf601-b12d-4ef5-8388-d96222a988a5"
   },
   "outputs": [
    {
     "data": {
      "text/html": [
       "\n",
       "    <div>\n",
       "        <style>\n",
       "            /* Turns off some styling */\n",
       "            progress {\n",
       "                /* gets rid of default border in Firefox and Opera. */\n",
       "                border: none;\n",
       "                /* Needs to be in here for Safari polyfill so background images work as expected. */\n",
       "                background-size: auto;\n",
       "            }\n",
       "            .progress-bar-interrupted, .progress-bar-interrupted::-webkit-progress-bar {\n",
       "                background: #F44336;\n",
       "            }\n",
       "        </style>\n",
       "      <progress value='0' class='' max='2', style='width:300px; height:20px; vertical-align: middle;'></progress>\n",
       "      0.00% [0/2 00:00<00:00]\n",
       "    </div>\n",
       "    \n",
       "<table style='width:375px; margin-bottom:10px'>\n",
       "  <tr>\n",
       "    <th>epoch</th>\n",
       "    <th>train_loss</th>\n",
       "    <th>valid_loss</th>\n",
       "    <th>error_rate</th>\n",
       "    <th>accuracy</th>\n",
       "  </tr>\n",
       "</table>\n",
       "\n",
       "\n",
       "    <div>\n",
       "        <style>\n",
       "            /* Turns off some styling */\n",
       "            progress {\n",
       "                /* gets rid of default border in Firefox and Opera. */\n",
       "                border: none;\n",
       "                /* Needs to be in here for Safari polyfill so background images work as expected. */\n",
       "                background-size: auto;\n",
       "            }\n",
       "            .progress-bar-interrupted, .progress-bar-interrupted::-webkit-progress-bar {\n",
       "                background: #F44336;\n",
       "            }\n",
       "        </style>\n",
       "      <progress value='0' class='progress-bar-interrupted' max='85', style='width:300px; height:20px; vertical-align: middle;'></progress>\n",
       "      Interrupted\n",
       "    </div>\n",
       "    "
      ],
      "text/plain": [
       "<IPython.core.display.HTML object>"
      ]
     },
     "metadata": {
      "tags": []
     },
     "output_type": "display_data"
    },
    {
     "name": "stdout",
     "output_type": "stream",
     "text": [
      "LR Finder is complete, type {learner_name}.recorder.plot() to see the graph.\n"
     ]
    },
    {
     "data": {
      "image/png": "[encoded data removed]",
      "text/plain": [
       "<Figure size 576x396 with 1 Axes>"
      ]
     },
     "metadata": {
      "tags": []
     },
     "output_type": "display_data"
    }
   ],
   "source": [
    "# let's find the optimal learning rates\n",
    "learn.lr_find()\n",
    "learn.recorder.plot()"
   ]
  },
  {
   "cell_type": "code",
   "execution_count": null,
   "metadata": {
    "colab": {},
    "colab_type": "code",
    "id": "PxDenrqJ1XOh"
   },
   "outputs": [],
   "source": [
    "# picking optimal learning rates\n",
    "lr1 = 0.000001 # min\n",
    "lr2 = 0.00001\n",
    "lr3 = 0.00045 # max"
   ]
  },
  {
   "cell_type": "code",
   "execution_count": null,
   "metadata": {
    "colab": {
     "base_uri": "https://localhost:8080/",
     "height": 283
    },
    "colab_type": "code",
    "id": "FueVReSs3dbM",
    "outputId": "261c7ccd-57f7-4255-a715-f0b8dfd810f2"
   },
   "outputs": [
    {
     "data": {
      "text/html": [
       "Total time: 1:02:24 <p><table style='width:375px; margin-bottom:10px'>\n",
       "  <tr>\n",
       "    <th>epoch</th>\n",
       "    <th>train_loss</th>\n",
       "    <th>valid_loss</th>\n",
       "    <th>error_rate</th>\n",
       "    <th>accuracy</th>\n",
       "  </tr>\n",
       "  <tr>\n",
       "    <th>1</th>\n",
       "    <th>0.392632</th>\n",
       "    <th>0.406837</th>\n",
       "    <th>0.141811</th>\n",
       "    <th>0.858189</th>\n",
       "  </tr>\n",
       "  <tr>\n",
       "    <th>2</th>\n",
       "    <th>0.380427</th>\n",
       "    <th>0.405447</th>\n",
       "    <th>0.144474</th>\n",
       "    <th>0.855526</th>\n",
       "  </tr>\n",
       "  <tr>\n",
       "    <th>3</th>\n",
       "    <th>0.381559</th>\n",
       "    <th>0.409194</th>\n",
       "    <th>0.141145</th>\n",
       "    <th>0.858855</th>\n",
       "  </tr>\n",
       "  <tr>\n",
       "    <th>4</th>\n",
       "    <th>0.376549</th>\n",
       "    <th>0.400097</th>\n",
       "    <th>0.145140</th>\n",
       "    <th>0.854860</th>\n",
       "  </tr>\n",
       "  <tr>\n",
       "    <th>5</th>\n",
       "    <th>0.373565</th>\n",
       "    <th>0.397950</th>\n",
       "    <th>0.139814</th>\n",
       "    <th>0.860186</th>\n",
       "  </tr>\n",
       "  <tr>\n",
       "    <th>6</th>\n",
       "    <th>0.365007</th>\n",
       "    <th>0.394138</th>\n",
       "    <th>0.139148</th>\n",
       "    <th>0.860852</th>\n",
       "  </tr>\n",
       "  <tr>\n",
       "    <th>7</th>\n",
       "    <th>0.354953</th>\n",
       "    <th>0.392103</th>\n",
       "    <th>0.135819</th>\n",
       "    <th>0.864181</th>\n",
       "  </tr>\n",
       "  <tr>\n",
       "    <th>8</th>\n",
       "    <th>0.354809</th>\n",
       "    <th>0.393962</th>\n",
       "    <th>0.138482</th>\n",
       "    <th>0.861518</th>\n",
       "  </tr>\n",
       "  <tr>\n",
       "    <th>9</th>\n",
       "    <th>0.345960</th>\n",
       "    <th>0.391245</th>\n",
       "    <th>0.136485</th>\n",
       "    <th>0.863515</th>\n",
       "  </tr>\n",
       "  <tr>\n",
       "    <th>10</th>\n",
       "    <th>0.345774</th>\n",
       "    <th>0.391053</th>\n",
       "    <th>0.135819</th>\n",
       "    <th>0.864181</th>\n",
       "  </tr>\n",
       "</table>\n"
      ],
      "text/plain": [
       "<IPython.core.display.HTML object>"
      ]
     },
     "metadata": {
      "tags": []
     },
     "output_type": "display_data"
    }
   ],
   "source": [
    "# 2nd round of training\n",
    "learn.fit_one_cycle(10, max_lr=(lr1, lr2, lr3), moms=momentum_values_two, wd=1e-2)"
   ]
  },
  {
   "cell_type": "code",
   "execution_count": null,
   "metadata": {
    "colab": {},
    "colab_type": "code",
    "id": "706Hg7REq17u"
   },
   "outputs": [],
   "source": [
    "learn.save('stage-2-224-resnet50-A')"
   ]
  },
  {
   "cell_type": "code",
   "execution_count": null,
   "metadata": {
    "colab": {},
    "colab_type": "code",
    "id": "rrwtXR3Xuj51"
   },
   "outputs": [],
   "source": [
    "learn.load('stage-2-224-resnet50-A')"
   ]
  },
  {
   "cell_type": "code",
   "execution_count": null,
   "metadata": {
    "colab": {},
    "colab_type": "code",
    "id": "0cueU2hAg6nj"
   },
   "outputs": [],
   "source": [
    "# Creating a new data object to resize\n",
    "\n",
    "size = 299 # 299x299\n",
    "data = get_data(batch_size, image_size)\n",
    "\n",
    "learn.data = data"
   ]
  },
  {
   "cell_type": "code",
   "execution_count": null,
   "metadata": {
    "colab": {},
    "colab_type": "code",
    "id": "XE_6uF4KhPcP"
   },
   "outputs": [],
   "source": [
    "# Let's not freeze all the layers\n",
    "learn.freeze()"
   ]
  },
  {
   "cell_type": "code",
   "execution_count": null,
   "metadata": {
    "colab": {
     "base_uri": "https://localhost:8080/",
     "height": 453
    },
    "colab_type": "code",
    "id": "DO1kQ9CvhShe",
    "outputId": "f23bf546-af6d-4bfe-f76c-b1f56742cfcb"
   },
   "outputs": [
    {
     "data": {
      "text/html": [
       "\n",
       "    <div>\n",
       "        <style>\n",
       "            /* Turns off some styling */\n",
       "            progress {\n",
       "                /* gets rid of default border in Firefox and Opera. */\n",
       "                border: none;\n",
       "                /* Needs to be in here for Safari polyfill so background images work as expected. */\n",
       "                background-size: auto;\n",
       "            }\n",
       "            .progress-bar-interrupted, .progress-bar-interrupted::-webkit-progress-bar {\n",
       "                background: #F44336;\n",
       "            }\n",
       "        </style>\n",
       "      <progress value='0' class='' max='2', style='width:300px; height:20px; vertical-align: middle;'></progress>\n",
       "      0.00% [0/2 00:00<00:00]\n",
       "    </div>\n",
       "    \n",
       "<table style='width:375px; margin-bottom:10px'>\n",
       "  <tr>\n",
       "    <th>epoch</th>\n",
       "    <th>train_loss</th>\n",
       "    <th>valid_loss</th>\n",
       "    <th>error_rate</th>\n",
       "    <th>accuracy</th>\n",
       "  </tr>\n",
       "</table>\n",
       "\n",
       "\n",
       "    <div>\n",
       "        <style>\n",
       "            /* Turns off some styling */\n",
       "            progress {\n",
       "                /* gets rid of default border in Firefox and Opera. */\n",
       "                border: none;\n",
       "                /* Needs to be in here for Safari polyfill so background images work as expected. */\n",
       "                background-size: auto;\n",
       "            }\n",
       "            .progress-bar-interrupted, .progress-bar-interrupted::-webkit-progress-bar {\n",
       "                background: #F44336;\n",
       "            }\n",
       "        </style>\n",
       "      <progress value='0' class='progress-bar-interrupted' max='85', style='width:300px; height:20px; vertical-align: middle;'></progress>\n",
       "      Interrupted\n",
       "    </div>\n",
       "    "
      ],
      "text/plain": [
       "<IPython.core.display.HTML object>"
      ]
     },
     "metadata": {
      "tags": []
     },
     "output_type": "display_data"
    },
    {
     "name": "stdout",
     "output_type": "stream",
     "text": [
      "LR Finder is complete, type {learner_name}.recorder.plot() to see the graph.\n"
     ]
    },
    {
     "data": {
      "image/png": "[encoded data removed]",
      "text/plain": [
       "<Figure size 576x396 with 1 Axes>"
      ]
     },
     "metadata": {
      "tags": []
     },
     "output_type": "display_data"
    }
   ],
   "source": [
    "# finding optimal learning rate\n",
    "learn.lr_find()\n",
    "learn.recorder.plot()"
   ]
  },
  {
   "cell_type": "code",
   "execution_count": null,
   "metadata": {
    "colab": {},
    "colab_type": "code",
    "id": "1tWEkku3hc_V"
   },
   "outputs": [],
   "source": [
    "# picking optimal learning rate\n",
    "lr = 0.005"
   ]
  },
  {
   "cell_type": "code",
   "execution_count": null,
   "metadata": {
    "colab": {
     "base_uri": "https://localhost:8080/",
     "height": 283
    },
    "colab_type": "code",
    "id": "qMe-g6CQhetU",
    "outputId": "3cbad17b-813e-4e72-c809-36080d25dbe8"
   },
   "outputs": [
    {
     "data": {
      "text/html": [
       "Total time: 59:07 <p><table style='width:375px; margin-bottom:10px'>\n",
       "  <tr>\n",
       "    <th>epoch</th>\n",
       "    <th>train_loss</th>\n",
       "    <th>valid_loss</th>\n",
       "    <th>error_rate</th>\n",
       "    <th>accuracy</th>\n",
       "  </tr>\n",
       "  <tr>\n",
       "    <th>1</th>\n",
       "    <th>0.372777</th>\n",
       "    <th>0.334436</th>\n",
       "    <th>0.107856</th>\n",
       "    <th>0.892144</th>\n",
       "  </tr>\n",
       "  <tr>\n",
       "    <th>2</th>\n",
       "    <th>0.368966</th>\n",
       "    <th>0.292991</th>\n",
       "    <th>0.110519</th>\n",
       "    <th>0.889481</th>\n",
       "  </tr>\n",
       "  <tr>\n",
       "    <th>3</th>\n",
       "    <th>0.378377</th>\n",
       "    <th>0.303887</th>\n",
       "    <th>0.114514</th>\n",
       "    <th>0.885486</th>\n",
       "  </tr>\n",
       "  <tr>\n",
       "    <th>4</th>\n",
       "    <th>0.367816</th>\n",
       "    <th>0.291045</th>\n",
       "    <th>0.109188</th>\n",
       "    <th>0.890812</th>\n",
       "  </tr>\n",
       "  <tr>\n",
       "    <th>5</th>\n",
       "    <th>0.354128</th>\n",
       "    <th>0.295160</th>\n",
       "    <th>0.110519</th>\n",
       "    <th>0.889481</th>\n",
       "  </tr>\n",
       "  <tr>\n",
       "    <th>6</th>\n",
       "    <th>0.357410</th>\n",
       "    <th>0.287012</th>\n",
       "    <th>0.101198</th>\n",
       "    <th>0.898802</th>\n",
       "  </tr>\n",
       "  <tr>\n",
       "    <th>7</th>\n",
       "    <th>0.355644</th>\n",
       "    <th>0.289361</th>\n",
       "    <th>0.107856</th>\n",
       "    <th>0.892144</th>\n",
       "  </tr>\n",
       "  <tr>\n",
       "    <th>8</th>\n",
       "    <th>0.344997</th>\n",
       "    <th>0.282938</th>\n",
       "    <th>0.105859</th>\n",
       "    <th>0.894141</th>\n",
       "  </tr>\n",
       "  <tr>\n",
       "    <th>9</th>\n",
       "    <th>0.341824</th>\n",
       "    <th>0.281348</th>\n",
       "    <th>0.105859</th>\n",
       "    <th>0.894141</th>\n",
       "  </tr>\n",
       "  <tr>\n",
       "    <th>10</th>\n",
       "    <th>0.344808</th>\n",
       "    <th>0.282048</th>\n",
       "    <th>0.107190</th>\n",
       "    <th>0.892810</th>\n",
       "  </tr>\n",
       "</table>\n"
      ],
      "text/plain": [
       "<IPython.core.display.HTML object>"
      ]
     },
     "metadata": {
      "tags": []
     },
     "output_type": "display_data"
    }
   ],
   "source": [
    "# now we most do a grid search for weight decay\n",
    "\"\"\"\n",
    "ResNet50\n",
    "weight decay: 1e-6 \n",
    "momentum range: (0.95, 0.85)\n",
    "learning rate: 0.06\n",
    "batch size: 128\n",
    "dropout: 0.2\n",
    "\"\"\"\n",
    "\n",
    "momentum_values = (0.99, 0.90) # we will set when calling learn.fit_one_cycle\n",
    "momentum_values_two = (0.95, 0.85) # default\n",
    "\n",
    "\n",
    "learn.fit_one_cycle(10, slice(lr), wd=1e-2)\n",
    "# learn.fit_one_cycle(5, slice(lr), moms=momentum_values)\n",
    "# learn.fit(5, slice(lr))"
   ]
  },
  {
   "cell_type": "code",
   "execution_count": null,
   "metadata": {
    "colab": {},
    "colab_type": "code",
    "id": "CQfhV5EIkAWC"
   },
   "outputs": [],
   "source": [
    "learn.save('stage-1-299-resnet50')"
   ]
  },
  {
   "cell_type": "code",
   "execution_count": null,
   "metadata": {
    "colab": {},
    "colab_type": "code",
    "id": "VcArWxlLCzWl"
   },
   "outputs": [],
   "source": []
  }
 ],
 "metadata": {
  "accelerator": "GPU",
  "colab": {
   "collapsed_sections": [],
   "name": "Skin-Cancer-App-Model-ResNet.ipynb",
   "provenance": [],
   "version": "0.3.2"
  },
  "kernelspec": {
   "display_name": "Python 3",
   "language": "python",
   "name": "python3"
  },
  "language_info": {
   "codemirror_mode": {
    "name": "ipython",
    "version": 3
   },
   "file_extension": ".py",
   "mimetype": "text/x-python",
   "name": "python",
   "nbconvert_exporter": "python",
   "pygments_lexer": "ipython3",
   "version": "3.6.8"
  }
 },
 "nbformat": 4,
 "nbformat_minor": 2
}
